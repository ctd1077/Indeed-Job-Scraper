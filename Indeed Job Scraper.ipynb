{
 "cells": [
  {
   "cell_type": "markdown",
   "metadata": {},
   "source": [
    "# Indeed Job Scraper\n",
    "### Scrapes the first page of search for Python Developer jobs in Denver, Co"
   ]
  },
  {
   "cell_type": "code",
   "execution_count": 1,
   "metadata": {},
   "outputs": [],
   "source": [
    "import re\n",
    "import requests\n",
    "from bs4 import BeautifulSoup as bs"
   ]
  },
  {
   "cell_type": "code",
   "execution_count": 2,
   "metadata": {},
   "outputs": [],
   "source": [
    "payload = {'q': 'Python Developer', 'Denver': 'CO'}"
   ]
  },
  {
   "cell_type": "code",
   "execution_count": 3,
   "metadata": {},
   "outputs": [],
   "source": [
    "url = 'https://www.indeed.com/jobs'"
   ]
  },
  {
   "cell_type": "code",
   "execution_count": 4,
   "metadata": {},
   "outputs": [],
   "source": [
    "r = requests.get(url, params=payload)"
   ]
  },
  {
   "cell_type": "code",
   "execution_count": 5,
   "metadata": {},
   "outputs": [
    {
     "data": {
      "text/plain": [
       "200"
      ]
     },
     "execution_count": 5,
     "metadata": {},
     "output_type": "execute_result"
    }
   ],
   "source": [
    "r.status_code"
   ]
  },
  {
   "cell_type": "code",
   "execution_count": 6,
   "metadata": {},
   "outputs": [
    {
     "data": {
      "text/plain": [
       "True"
      ]
     },
     "execution_count": 6,
     "metadata": {},
     "output_type": "execute_result"
    }
   ],
   "source": [
    "r.ok"
   ]
  },
  {
   "cell_type": "code",
   "execution_count": 7,
   "metadata": {},
   "outputs": [
    {
     "data": {
      "text/plain": [
       "'https://www.indeed.com/jobs?q=Python+Developer&Denver=CO'"
      ]
     },
     "execution_count": 7,
     "metadata": {},
     "output_type": "execute_result"
    }
   ],
   "source": [
    "r.url"
   ]
  },
  {
   "cell_type": "code",
   "execution_count": 8,
   "metadata": {},
   "outputs": [],
   "source": [
    "text = r.text\n",
    "soup = bs(text, 'html.parser')"
   ]
  },
  {
   "cell_type": "code",
   "execution_count": 9,
   "metadata": {},
   "outputs": [
    {
     "data": {
      "text/plain": [
       "'Python Developer Jobs, Employment | Indeed.com'"
      ]
     },
     "execution_count": 9,
     "metadata": {},
     "output_type": "execute_result"
    }
   ],
   "source": [
    "soup.title.text"
   ]
  },
  {
   "cell_type": "code",
   "execution_count": 10,
   "metadata": {},
   "outputs": [],
   "source": [
    "jobInfo = soup.find_all('div', {'class':'jobsearch-SerpJobCard'})"
   ]
  },
  {
   "cell_type": "code",
   "execution_count": 11,
   "metadata": {},
   "outputs": [
    {
     "name": "stdout",
     "output_type": "stream",
     "text": [
      "Python Developer\n",
      "https://www.indeed.com/pagead/clk?mo=r&ad=-6NYlbfkN0DhVAxkc_TxySVbUOs6bxWYWOfhmDTNcVTjFFBAY1FXZ2RjSBnfHw4gS8ZdlOOq-xz8PqwALv48HVoOQR5KHadGbepy1sDVgJj1p1snezcxXTONK6YAvoF5IiItj_C-caDr0f9zDMWchHPxQn1gw0EQ-Fpu9WHTxbHoVSFk1f1Df5MvpXleh57Jd_WQ3-gS2-Wc1PXO8gIhwKMy_0eMuuvEsE8zTx4hS9WzII_atcrpqF5QaBYtOnIaUv4H-ft_Bl7LTkI7B8CGPDgRy8VTSE-_UWxncIVRgzLsQtJ1euGABUODalils_LW2jrZ7ZHtQkeusCrR7M2TmiTjrvVDSfJRMEXcFfKI0x0HyExCCl7CJMNQP3qObXfh8VG27gWDaEnoSDCO8VHWirFZ2T8DNOdI3nEe2h8BeiWAZWTkfO4rECeS9RJN-K-HUnR-XsBJTJo9opDwmylgy0JzY-zMEF7HHFIfVlnmYfu6mJcikOsB3TCbLXIu3xybv6fUSHRWE2z80Ud7go-uxKd6jXE8K9meu4WFooHaoOB-Wi76K5CZiJId08-HRTds&p=0&fvj=1&vjs=3\n",
      "\n",
      "Software Developer\n",
      "https://www.indeed.com/pagead/clk?mo=r&ad=-6NYlbfkN0BOup_TMTp17Hi_wY-itcVSY6myMpwFN0OaTOAQ2R5ia5VgmH3mKebnD21NMX176AFLronOpeJiWjly688yNSkabrPEKrv119PMIco4vVWjhUy5pXGWrmNLuFn2VDu4-8g36L9YS-QhVV-XsUh7FPct8v-N7-shce_HVljyfWxspuXh0BFRA2FpYRfLIEdG26SYMB-XYeR5QK1vNLBQIVRGrC9f0QhWQXyW839LksvKZ9osorxEwk_TKqBg5P_ra-7KMiEFikCTGkWxNpR5-PGUeq4jhr5rKoGk-_OlRVO5Yjp7KYJtC3q2T6cCySIIITkyLrSflwNdFss34kpoTbw6Ovnxz83p0vI1rbulyDYufKnD2rxTBuI1-G0gVxx9VtiHx5XfJc0OpecE21-o9zHCA4Mpm2LkBbQ=&p=1&fvj=1&vjs=3\n",
      "\n",
      "Software Developer\n",
      "https://www.indeed.com/pagead/clk?mo=r&ad=-6NYlbfkN0C2kuWi2JgZpFi_GT5H044xuEBc5q5F-ACNHBlyLiBDxboHe3-INvpyxLY0IuyktQeJsgM6CM1dGzuC7mjyhSkGrHRERd5Zyo5KtLcSykn2db55ZI_OaIbWyg0CL7ei76ouMALjKWnjCUje70nAEuoh_ovMX-8cl2MfusH6Oqg5p7hHuSvSYWcuFvrO3BdN1QRO9PpgKhApwqHYWf-tD4fWKXCyzr4b4LEhLtOnJgcZ4-MpMFI5KFxiUV-I7-TpMoDETs24hjEZfN7JUYvNZBJcsFackFTFUPtChqZTLioOrv8frucE46xKF0WhreWVa7AVr-qBUy4iMpZauQQ8b72Jvsz8h5H-NHqTvX3gENirXjERKOrWcUoxUNO35N_QVgrm9Px_mGVfOuthc0Vwd0mzvhe31y-hrCSgVXAF4AZHxNgTOK0PI-Ul&p=2&fvj=1&vjs=3\n",
      "\n",
      "Python or Ruby on Rails Developer\n",
      "https://www.indeed.com/pagead/clk?mo=r&ad=-6NYlbfkN0BkPvN4n5d-HBtJJNdFUHnOaTzmQtfwZeWJnaNDMXaMlp5C_jxEf0y1bRs-4eo3MWvTxPvV6YvygrqVDNnXmBWELLa-3mlcMQlJs9Ja4HiEbn-M7ruF9uMm9UT3KTveKSSOIfZaHUpsDqB9r4QXv55SLqOZMalSNl_0WKBFXvkH1VuXeifqM9riGuQMdVvYXc8GMY4nPDH0Rq_-ZJvKArAKiOcaIufZjMQ9OBnr8I1HX5ALRknA0DLHPXXoLbsg_GK5TSHRSP5PdhMViGEX8Qv_xvMNw6XdMk0NDahivtta0vLlqgX8kO3x5cCuQbcx_U4j8EVCgKq-Ge90hVBjwR0cm7s-j7AcP-Gn3HVXfj5EHhf-Pb_PO6dx9LVCX5oMHJlWlNloaqAspyMkrcQO2xsHRujMTsVtAvq69R9ptPmSnVqwJaDaRKX0yDQ3VeRGVlU=&p=3&fvj=1&vjs=3\n",
      "\n",
      "Python Web Developer\n",
      "https://www.indeed.com/pagead/clk?mo=r&ad=-6NYlbfkN0Cj1u-zXuSguOUD7kNBLE6XnnmVoEcTptjsi35oiOlbXZ8k4HOgioan5DOfvWtOCJNvYyFTycbArenN2GQPT-EFhPDgJ7V6rbYSWuTeIRiy3zfbYu0EUSHY4Rde0O2c2GFb6ZRfGjGjqoDbycWz2I3uARvjnyOA1c5hfX2L1PEMCpnm13H63mu6W3HoMqdIRfoDNeGg8YKOtC4Hw7i9VWXSKN0Xi55qB6UHZGRJReTeOoB0boxXNqAIH9trzAN0YhINV55D39U7V0z3YYPR9Asch-askzW2LNPSXjmJfeCbgjGs5Qsttm10f89gt85RS-Xk59zE4drcGN0xjgeD74HpoVK7OM8XWCY1mr8vmAkEYgQFNYFq_1zTW0pRqKMk2YU4Qr70-vYcWItFzbRlfKtI2OqYXbQVX-5ZaxwH-c0Z9ZqxZ44kzKgg&p=4&fvj=1&vjs=3\n",
      "\n",
      "Sr. Developer, (Hadoop Experience Required)\n",
      "https://www.indeed.com/pagead/clk?mo=r&ad=-6NYlbfkN0AanyZzKzBvjOUzcZg9-r4ahW_f641PemFJIf3L0WOWId0kqx0fVfwC81dFBIjrKxtKy1mhtyasX4i9krm_6jH0doZOBmZHzPu2mqTGw775QshQ20VaRWLVaRfX5V8hPOfe11WeX74ji1VlXa1xZUSvPZnjkH6yzhkoSzvDrHgjRDVPCr2AeONtsT77bq5OCW68xAPZxa4X7p8CtfzxVc3KZ4ZVd2Ik1zJ9SK5wQYqooTkVyqZv_Q0JWySr18zW8IoCqjrIHdeNMFzxkQZ3myFNY5KPAiZ8oH_GqtLGpRXEq5vrZaPBiyzMztpKaaDgTHgFMPpKpZfDeunWR3Uw-cvIbzF_KLXx84w8sxvtP2V3rtc3-_vjHF7TrBbnlEPzEJ_CgtIbaJKTLe4xDM9BFYP0iaCPldXHnOKjr64-ZCpeuvF98on9RkLl5-g18_So_jz9aZhMInzQClhEEWeGVvy8&p=5&fvj=1&vjs=3\n",
      "\n",
      "Full Stack Developer (JavaScript/Python)\n",
      "https://www.indeed.com/pagead/clk?mo=r&ad=-6NYlbfkN0B9Wv3zVaHqMPBSMD0mVMeKZrNudL6iQGdcMKu51eySyossYdAvRUA4-VOtHf1YWjj3wahD5-pKFNQqZX6SLWni7TP4nM7Ko653CWOJjbwMqbK7_aeyP_wnu-jONU9YYy6xQ92hJwKKaH43ztk67r_cE072XGOmB5ROlcAQXdQjpImKOPnIWmeEwT8BvNmwVZLWX8134OqqT_t0MZiz9NZRRtwGue15SuwqC2kZTiKTlgO99SBLEYZFRL0-hpbG0CBPd2pwS5T7EjPBTfzWuCzSu9BbD_Cis-EaEvAl0DVoOZrWgl3X0RZV2THdXnkQGIR-a0DyoWoaipaLjHdTAkK1X1OceYrdWdwFPjqnICThs_xYXY0JmJq6Hnzk6VOOHs7i3P5Fzjz_6HSyAe68u5KZJTFWEMCYeHxddULxUcZfWKtzKe5Crgk-Ca6cJ5vI1j4B7cCiwSXbrw==&p=6&fvj=1&vjs=3\n",
      "\n",
      "Python Developer\n",
      "https://www.indeed.com/rc/clk?jk=8a7d90d06565a195&fccid=32e91617d69c76d2&vjs=3\n",
      "\n",
      "PYTHON DEVELOPER\n",
      "https://www.indeed.com/rc/clk?jk=cda533809c1fe815&fccid=4bb1fe4a6a4833ea&vjs=3\n",
      "\n",
      "Python Developer\n",
      "https://www.indeed.com/rc/clk?jk=345e22ca6e583be5&fccid=97392be5bffc5da4&vjs=3\n",
      "\n",
      "Entry Level Software Developer\n",
      "https://www.indeed.com/rc/clk?jk=f5ff7b0ec6c0b1b6&fccid=23b4cebad6818890&vjs=3\n",
      "\n",
      "Python Developer\n",
      "https://www.indeed.com/rc/clk?jk=b4746b42ba857a6b&fccid=1b94a0d2341bbc8a&vjs=3\n",
      "\n",
      "Python Developer (Bookmap)\n",
      "https://www.indeed.com/rc/clk?jk=63672ec7d60ce1c9&fccid=5bd99dfa21c8a490&vjs=3\n",
      "\n",
      "Python Developer\n",
      "https://www.indeed.com/rc/clk?jk=90c8b66575d7a356&fccid=5bd99dfa21c8a490&vjs=3\n",
      "\n",
      "Sr. Python Developer\n",
      "https://www.indeed.com/company/ajace/jobs/Senior-Python-Developer-93b66879c800b820?fccid=d40856e3e4082d7a&vjs=3\n",
      "\n",
      "Python Developer\n",
      "https://www.indeed.com/rc/clk?jk=42ca025ee788188c&fccid=e984c1dfbf598950&vjs=3\n",
      "\n",
      "Python Developer\n",
      "https://www.indeed.com/rc/clk?jk=a85b1a7a962933d8&fccid=e7513c019f3a5baf&vjs=3\n",
      "\n",
      "Python Developer\n",
      "https://www.indeed.com/pagead/clk?mo=r&ad=-6NYlbfkN0A4ULs86EFcpDGk4ww0gk28m0uBqQ6Gl60sgN3zmZm4qH4guQ1eTqq8v-ZPLLdeEPIVmGxhAIijkcW7mF5LBx0FRFwgZoALVju1hYAoGR54ozNiaixQPQOrWdF-Md2X31kpw8dYHW4lqEcER-2eauSewKnDmz7ukgNMs3uV-10cm6IubAneXB-YyoL7Ihj7IUJZOOIU5RCunCjVSv6BLpvWOWMF_FgnffXScZ3tZO31vpbA42vB8WiqSrVY1RBkOkSsx0JUhTM8AzwgAlNXIDrXixcQSfx1ZK0aWYYzisO71JFEcngiUT0SEc1YdolATIcBkS7zjeBoXmpgKY7Xm2XUY8FwSDHtYx3X7hJzvmOOa2VMT-iVfF1_n_KsFJpwJcIv3YVKQ_HHyHbJeWtfsvKlFhbN_My8qm6qS1bb07wZtg==&p=17&fvj=1&vjs=3\n",
      "\n",
      "Python Developer\n",
      "https://www.indeed.com/pagead/clk?mo=r&ad=-6NYlbfkN0DtWBYpnBqF2PWOciix6UldCC4wxn5MnRSRXXU38yG70VssP98XgUcaqPMf7Bt7JvTNYYf1c7dAwfmRDYP_5V1ygWhxoG7Owe1o6L2WZJUEqypsg7iR94q0wS_HqztJ-Vd5XKtS9STBdlykH07mnUGUbZN7at4QrS2wb0ck4flSa1Sg6VZKDCivHhq9tJYkR7dmxjW3QYXfgWbe2Rv-zgZPK2q8R2Zq2w3xsOTALiyYVt5VK7FAm2c880_EUCp9nztO889OkmjyA2_qt-wXUjnw31dY_pmAYtnPKuqwAonmLjaxfyDhOLeIw4g1jFevsAx4otTbpUwOpkBAyp32rlDjjwD_oDj8WN_B9do198OR3FgeKqo9EO4r1NWUz8mt5mqB5ZKLMBc6i1wJDl8Gi4l4fLGyrpm03gTQVHCyq1h1FA==&p=18&fvj=1&vjs=3\n",
      "\n"
     ]
    }
   ],
   "source": [
    "website = 'https://www.indeed.com'\n",
    "for x in jobInfo:\n",
    "    path = x.find('a')\n",
    "    link = path.get('href')\n",
    "    title = path.get('title')\n",
    "    print(title)\n",
    "    print(website+link)\n",
    "    print()"
   ]
  }
 ],
 "metadata": {
  "kernelspec": {
   "display_name": "Python 3",
   "language": "python",
   "name": "python3"
  },
  "language_info": {
   "codemirror_mode": {
    "name": "ipython",
    "version": 3
   },
   "file_extension": ".py",
   "mimetype": "text/x-python",
   "name": "python",
   "nbconvert_exporter": "python",
   "pygments_lexer": "ipython3",
   "version": "3.6.8"
  }
 },
 "nbformat": 4,
 "nbformat_minor": 2
}
