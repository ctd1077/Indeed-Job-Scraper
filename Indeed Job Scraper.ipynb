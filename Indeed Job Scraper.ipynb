{
 "cells": [
  {
   "cell_type": "markdown",
   "metadata": {},
   "source": [
    "# Indeed Job Scraper\n",
    "### Scrapes the first page of search for Python Developer jobs in Denver, Co"
   ]
  },
  {
   "cell_type": "code",
   "execution_count": 15,
   "metadata": {},
   "outputs": [],
   "source": [
    "import re\n",
    "import requests\n",
    "from bs4 import BeautifulSoup as bs"
   ]
  },
  {
   "cell_type": "code",
   "execution_count": 16,
   "metadata": {},
   "outputs": [],
   "source": [
    "payload = {'q': 'Python Developer', 'l': 'DENVER CO'}"
   ]
  },
  {
   "cell_type": "code",
   "execution_count": 17,
   "metadata": {},
   "outputs": [],
   "source": [
    "url = 'https://www.indeed.com/jobs'"
   ]
  },
  {
   "cell_type": "code",
   "execution_count": 18,
   "metadata": {},
   "outputs": [],
   "source": [
    "r = requests.get(url, params=payload)"
   ]
  },
  {
   "cell_type": "code",
   "execution_count": 19,
   "metadata": {},
   "outputs": [
    {
     "data": {
      "text/plain": [
       "200"
      ]
     },
     "execution_count": 19,
     "metadata": {},
     "output_type": "execute_result"
    }
   ],
   "source": [
    "r.status_code"
   ]
  },
  {
   "cell_type": "code",
   "execution_count": 20,
   "metadata": {},
   "outputs": [
    {
     "data": {
      "text/plain": [
       "True"
      ]
     },
     "execution_count": 20,
     "metadata": {},
     "output_type": "execute_result"
    }
   ],
   "source": [
    "r.ok"
   ]
  },
  {
   "cell_type": "code",
   "execution_count": 21,
   "metadata": {},
   "outputs": [
    {
     "data": {
      "text/plain": [
       "'https://www.indeed.com/q-Python-Developer-l-DENVER-CO-jobs.html'"
      ]
     },
     "execution_count": 21,
     "metadata": {},
     "output_type": "execute_result"
    }
   ],
   "source": [
    "r.url"
   ]
  },
  {
   "cell_type": "code",
   "execution_count": 22,
   "metadata": {},
   "outputs": [],
   "source": [
    "text = r.text\n",
    "soup = bs(text, 'html.parser')"
   ]
  },
  {
   "cell_type": "code",
   "execution_count": 23,
   "metadata": {},
   "outputs": [
    {
     "data": {
      "text/plain": [
       "'Python Developer Jobs, Employment in Denver, CO | Indeed.com'"
      ]
     },
     "execution_count": 23,
     "metadata": {},
     "output_type": "execute_result"
    }
   ],
   "source": [
    "soup.title.text"
   ]
  },
  {
   "cell_type": "code",
   "execution_count": 24,
   "metadata": {},
   "outputs": [],
   "source": [
    "jobInfo = soup.find_all('div', {'class':'jobsearch-SerpJobCard'})"
   ]
  },
  {
   "cell_type": "code",
   "execution_count": 25,
   "metadata": {},
   "outputs": [
    {
     "name": "stdout",
     "output_type": "stream",
     "text": [
      "Python Developer\n",
      "https://www.indeed.com/pagead/clk?mo=r&ad=-6NYlbfkN0DhVAxkc_TxySVbUOs6bxWYWOfhmDTNcVTjFFBAY1FXZz6G2ZVf9e4M-djPf1GvVwSH-8mv3i7S_FBUSbb8M7fOsTgK5EltgCXmutZlc7etBLZJWkvMHfVfJMsNlnv8ktFJMnRqONqfPt3wRunfaKPQ1Fdt4z8OFFWFc0NkREQUOu7nsWKjhruDLMVXFkKXGK06oDQxVp71LokO1Gk26VVQr75W4AjLXFhjJQ9h_TTKmI6Fxpo2c9XyzjMh-01Vih41W-HkopUnUvicNOmiS4cKMZIqpgkgfA73v2hMcw5BFkWPlQg4hJIN8GzIvbIotk943OF2PKrjPgouWPcBfdJ5lPoNJR_21FpY1niUWpj1PNF4PNf2QTCe8xge7SDvL2XDc6ldq8A3XB6o1UfIB731UqeV6rgwe9iYhqVATmNo1cJWpOUp-EsrhDCPT_AL3BdchdaLq350jq2IfXCNFsBUJLMX8IOv91yQgVDUrnMg2NYLLvgOtfF1m9cCXNqYiJDDuRzxpCw__kVu_-D4J9x_zFgOjS96BeLnCLIgRzgzSw==&p=0&fvj=1&vjs=3\n",
      "\n",
      "Web Application Developer\n",
      "https://www.indeed.com/pagead/clk?mo=r&ad=-6NYlbfkN0DxCZnDliWW_rcfMLoVO_wJl195BLjL9Hk8YTc5obIwJv-hLrjY4ErjHY0CS6Tni8s_Jwg12u9tqUWUm-N852xGPujQ5bNlPCKmwTsuIhr1GU2RC2_PSc2lz995mJsv8mQIhnA0pMN2_jZLVE1KwfoRKB8ZG4CDNKEcLCYGw7fSSoiedFIQIvJyaP1WSpYqGUak_g6i-gAldtAcHK2hoESfEpX7-mGswnS30jN0_Fz_nFX_0QoUJPLrtbpWmcRdBQosn3iZFLHn1bW02dKr-dODA_ruazBdL1DRuo_qnmEiNsPYyMBe7KrInLxYIrLnMiIFYmjmKwwOsdSevLNb44w0YiwtunBDZiPzJO_o7AmLtvg4Ix_dXQRaYV88n6dcKSbBpZqj6hAtZh_PiCyh948o9BYFHULWwO0ZDGFk1lZIGvBM7bHau3PEWhSieGTzz6Y=&p=1&fvj=1&vjs=3\n",
      "\n",
      "Java Developer\n",
      "https://www.indeed.com/pagead/clk?mo=r&ad=-6NYlbfkN0C5IatSLh_Ak1q39eQQoPIxD737RW9NeiYGvIRXkrLjEKQldVMIR3Zzwu80a71x88L2M5sD_VKfc_lL2iEuLMe-SXQlnT1P0nfii0ROxBEIbX8WinkFr7rwS6mGFRSJdU8l1QdMOZhHQFsDDSBBbxQ4_UhjGdpVOWtMOAzv3cX5VTtPYerddk7GM58237kO94In5L_5Aze95PdMyIqPUybFbOUvu3wLN2D2DRmOFEg0UUQWWKGWjJFBaB4mQJaktCRIT3aVnVBkmugAkL4sVpguRPnwW7_i7Ri5pvCXAcW-sTbNl_csx2rrJh8xjkXKVO19rRJZ01M8t-hWEhqc672VnHwfKK9WdrInMKt_Ks9c34o1volGPhYtXPnCvLWqpQKEL2xMlxGTH3xbxask0lY8TI797xJPQ1p9NKhy8QS-A6upng8N69FWT02yGGCMqLmc4n19dEZFq8tP_Ui5dYVRy2ntsEm8PEJ-T7obkCB7ijWxJQGNZNko9vtBT8aovayQSpRnDDX9nq68LiQxDo6ZMxpvpuOEKv1-FkMYHFoYvQ==&p=2&fvj=0&vjs=3\n",
      "\n",
      "Software Backend Engineer\n",
      "https://www.indeed.com/pagead/clk?mo=r&ad=-6NYlbfkN0DBCzKqIURIV17AAKBaYEbY-rr_RAgDvqCNNMdy_HYzrOwWbxWx2AvgbF_iwOjDBYGyHteBCC89mpqes5sRfLc6pfq6FAWoCp1p8V46WC6tr4E2N3bu8EN7E0RMKC2oLegVlymMynKIfJ8ZmRxvgkcXgUaDZMrTolh_ajUN7-TEXMz77-HDkyoouLZiRZuaUgsu4EMaW0Qn9jqAv-GXsYTD-9897L8sEEb0tuw2Cx3Uy9rCOz728mw9hq1yYMcDjL1QyMahyzr-2i68a2LWywH6MARCUsB0GDDqsI1Aj5s0ngJPHI9RtLATvdFaYXn3g_HzWZPneJaoOBPDXSPKjWLoxNV32GWS8gt28_bnq-IERt2QP-bQNYaQ029qW-S_f1wDZuu6rjyCpMN3_KNsHPPaLjNsLeFPUQOjasgRvaZcm_nbx5_OGnDLFq6eRq28BkaoZw2wlDCkAxGkMd5njBWI&p=3&fvj=1&vjs=3\n",
      "\n",
      "Embedded Software Engineer\n",
      "https://www.indeed.com/pagead/clk?mo=r&ad=-6NYlbfkN0COTQJr15KuA8-s3cfSdZlVj5hOIvvKyeykWSldKrT2snGyqMCdBv2cf9WwTGp6CZyqfsMGMlyHtJo2y-MXWWQUNbpFEUtxA5CmW3Qi5471CGsLrGfDWZxfxHQlUd2vy8ZuTWVyrCj8PjDUyMMfX2anZepaYR-btMC4UHXSgPmx-eLFzfQgKLwFSeQc203H0e7yYCDFOxwRNVhUNN7D5Xs90jpL0vCMOUQqKlwLkvWRbLqusZ_BS320dtwU_NGSACP77XmX5y-ZXq3yE70G8KBqTCqshoFisyNZOXTmwYqs9nMSgn07IxHA01bYxnvbvnz_bza6HI7wR2HK1TeNX2aHE5Visjf8xQD5EzLGA9BDlxp4SItgMzx61116zGU13y8F4MJl5fxz8lqS-33UT_5yyVpsZLuZ64bAqhAnQegTGfyBiDKDAxIoJQWQBx_HKeTKs3XIE3SfAw==&p=4&fvj=1&vjs=3\n",
      "\n",
      "ETL/Teradata Developer\n",
      "https://www.indeed.com/pagead/clk?mo=r&ad=-6NYlbfkN0C8_SG8nAfVvFLNKrjrazLcz-EBFYC5YiWhzODOv0FbPD4HQASLqbnhLKoHjauux-dNL_LYOo-A9XYknQCBZF6lpDK77zlUA67LReJtT7o439tEU2kz0j7YXW3kiDMdKCRpQn_-RWSG845Az5LgHP6K-pI7iMvvAFNEziizL-vyZJVH3uiVUGRWez9RnpZ0esWjKyRBX3FHSVE0xn5-RBFy0Z3hgU1xWcmL5CDj1D_MikAs1xKtL6lM6M_xe76RHeYoXRg4Er73_BvJPAGszOYHd7nn4uqquHXBDYIX-8_KV82WTiepiHRXkIPORygYcn3iycj0o6bjqB5E8JND04naVa6IGOUFXb-YPfxCMJtAgU9N3lU_i_a6vVLbwFvPUPSiD3AANUa17kBvQCp9p25-B4B0n5j3UnIFWngHNeOMR-7LCYWQMfTgwzhKuEF78tKwENOzQbNM3A==&p=5&fvj=1&vjs=3\n",
      "\n",
      "Early Career Software Engineer\n",
      "https://www.indeed.com/pagead/clk?mo=r&ad=-6NYlbfkN0DUg0RRiqRYbZ4ELB_SckCmluBYj7os_p-IcUvQtuwIvK_ds_uMC5BEYmYIHGC8MGg7wdn0eZG_sc6dBuigWxTrPBYzARRsSD2XhNrHl92WQflNhEGkzGV4BHixz470EJS5pZENF-820sVICj2MVVcYZo2uUB6NnSTQ23bTmfWc1OtCYGy0_-ZLmRACrbx9hKZ5sd_LNLBxPy-991aD80JIXT0KETjLy5wNZZvS-GZPpIzhX1IXAt409wxGPcZI4Coi31jzG5xoENVovD-LYIKLY4zRx6_zXMos0jePsPFXuUAw0txeRLCBiNBWgcgbHf1kHUV25uug1GcjmO6OA5zD9zzRr0tZTWd35djYKYddZmFFCL4G2h36KI7d48zGuA9vi4VH2wYIS1-z4vdTfnGK99b6UwM_pmtEKzK6MVZ3MvXWzzBeUpxkhQ64AKNY0nlzWob9vOJNgAB-EinozBXPVte_w3RPgfNRJp8z17659eofkcZ0VDcpCJCfbQF7PVE4cbXLGRjTSGSsXRHSa8f6I94szh9hTojRhLeoopj7SjW3SXpjDPbIh2WnnTETsXgO86Yx-ymDITvxXEOLhnaZkB-aVGkButExFE8H8p-XVJ3aNVK9U_XRSi9AItURs5Moq7dIU4RUTaSNh76xTija4fpK7qWMkjL5noVakj3CSH16prMH4XeUst7k5XAKWnjgko1cf_umLsFFrjZ8GMEeL-hfxzHLaERJQTnIzfQOJEg7XqDv-ITOEqXOPJVOAYukJrsjxFNAkH98ipWyof0w-T7tMYGh_xZ7FWxxEIc4l9xRfV2JLgODalx3ZiMvY-NEnpWR2pekT0te5egL407Ui_K5G5frD-vGb4qID2pJnqV2w975ECQ5Yj5vGpAukNfIGr_gZlqDCBfADtsd4d6geX4g5P-d2o_BUx064m-ZJ6IZsnCH3nZpJpjat608BCo=&p=6&fvj=0&vjs=3\n",
      "\n",
      "PYTHON DEVELOPER\n",
      "https://www.indeed.com/rc/clk?jk=cda533809c1fe815&fccid=4bb1fe4a6a4833ea&vjs=3\n",
      "\n",
      "Python Developer - Denver, Colorado\n",
      "https://www.indeed.com/rc/clk?jk=56b9752e919dc4f9&fccid=32e91617d69c76d2&vjs=3\n",
      "\n",
      "Python Developer\n",
      "https://www.indeed.com/company/1965/jobs/Python-Developer-2a2f1520bc0241a9?fccid=ee5bd94b2c4a6380&vjs=3\n",
      "\n",
      "Software Developer Internship\n",
      "https://www.indeed.com/company/Southwest-Digital-Dash/jobs/Software-Developer-Internship-c117ead9adec9c11?fccid=b9124704c5dec379&vjs=3\n",
      "\n",
      "Software Developer - Python\n",
      "https://www.indeed.com/rc/clk?jk=7dbf58f984bbd686&fccid=3c371b712ace44cf&vjs=3\n",
      "\n",
      "Java Developer - Webex Teams Microservices (Entry Level)\n",
      "https://www.indeed.com/rc/clk?jk=0caff3579cd4b95b&fccid=dfc44f3b8c44a6db&vjs=3\n",
      "\n",
      "Python Developer\n",
      "https://www.indeed.com/rc/clk?jk=42ca025ee788188c&fccid=e984c1dfbf598950&vjs=3\n",
      "\n",
      "Full Stack Developer\n",
      "https://www.indeed.com/company/AutoDS/jobs/Full-Stack-Developer-90b89b94ebb93cf7?fccid=a41241b2a54c8f45&vjs=3\n",
      "\n",
      "React/Python Full-Stack Developer\n",
      "https://www.indeed.com/rc/clk?jk=d80482a34396fb20&fccid=b30ff10ca996dbb3&vjs=3\n",
      "\n",
      "Senior Business Intelligence Developer\n",
      "https://www.indeed.com/rc/clk?jk=3226adfd0d716685&fccid=96054c006090b215&vjs=3\n",
      "\n",
      "Full Stack Engineer at MakeMusic\n",
      "https://www.indeed.com/pagead/clk?mo=r&ad=-6NYlbfkN0AfRY2ULsLoo_H-yqI9CnDirdottdgydgTqZ3eywduvhSOIL48THIiu-RWxAByEdeR2BDOpOf772xQFmtm6IuhQTHvEgz-SUOiWyYHCpwGz2_DGzxrGu9grslxD9vv5DOeN5BjxJ0xCJumbNWuUo5tj-4gcGE6hlzUKdxrQeM1h-g22HypGo0FwRJh0dzdHiht2rCMZB5CLdvxY8U5zCwCLvt2z5opLFx1t-7OEL8RD8YYeNFCqKLiLhLqTFqOSnnX1r-0bsuSnDAv0zSryIRbXWYyJ5gJWOINWirTDohez21UU8nHFCpm8pQn3Mfog5F_5qZZ1j57XvcYZz1v0wepLsq6IigNxB16zIWkIdKeChPudV7x8mC33nWMCcV-O4HKiJNhbW3ae4hr09xfIHYAIW2Aitd35d9reNCf3VOVDNpJPRfzdYbLehPUCxSYf-KyAAGJraMGXcg==&p=17&fvj=1&vjs=3\n",
      "\n",
      "Full Stack Developer (Django / Vue.js)\n",
      "https://www.indeed.com/pagead/clk?mo=r&ad=-6NYlbfkN0AK8-OvCoTQ9zpRFB-CJ5JpYOMdPNRyMUKUKvhEm-m1rKcrYl9ttWAaVvpZQgzKYlHbTgZF7yQfpZgXhV540dGDsXN2-Y1E7qsLyT7DghKXioHC04nK5vpC7vkiDuziCeggVMcxoFLQn8wjHTs-c7VGpUhFqh08Tpvr2XDfPUm425AYrQnOs4_heuDC6dpo186kxbFkvOrZ4BAtg-TJr3XbINHtxGe66E1hrtr9BlO4rxHpl-iKMQglaWBM_btNpgSaGnYKQf6tOlxhdLuKKLThkSy2ZDXeqhHwEmOld_WQ_PQQ7ckwTnGklxNQlceKzw9l35KP14PLADdtzglPTh6txMYKcuLygO4VzXwJJWDvcGR3IcJoC71R3oJ9zcsRIPSNmS6LwxznUIqSAWxunwba8zUzawAw60lgFh1A8D3xnKipnhAbn5Vu-e1RkoTBbqtnCulBoy4pVEL_WeK-OP8R&p=18&fvj=1&vjs=3\n",
      "\n"
     ]
    }
   ],
   "source": [
    "website = 'https://www.indeed.com'\n",
    "for x in jobInfo:\n",
    "    path = x.find('a')\n",
    "    link = path.get('href')\n",
    "    title = path.get('title')\n",
    "    print(title)\n",
    "    print(website+link)\n",
    "    print()"
   ]
  },
  {
   "cell_type": "markdown",
   "metadata": {},
   "source": [
    "### Still working on updating Salary"
   ]
  },
  {
   "cell_type": "code",
   "execution_count": null,
   "metadata": {},
   "outputs": [],
   "source": [
    "website = 'https://www.indeed.com'\n",
    "for x in jobInfo:\n",
    "    path = x.find('a')\n",
    "    link = path.get('href')\n",
    "    title = path.get('title')\n",
    "    if x.find('span', {'class' : 'salaryText'}) == True:\n",
    "        salary = path.get('salaryText')\n",
    "    else:\n",
    "        salary = 'Salary not available'\n",
    "    #try:\n",
    "        #salary = path.get('salaryText')\n",
    "        #salary = ratings['salaryText']\n",
    "    #except None:\n",
    "        #salary = 'Salary not available'\n",
    "    print(title)\n",
    "    print(salary)\n",
    "    print(website+link)\n",
    "    print()"
   ]
  },
  {
   "cell_type": "code",
   "execution_count": null,
   "metadata": {},
   "outputs": [],
   "source": [
    "paths = []\n",
    "for x in jobInfo:\n",
    "    path = x.find('div')\n",
    "    #a = path.get('salary no-wrap')\n",
    "    print(path)\n",
    "    #paths.append(a)\n",
    "#print(paths)"
   ]
  },
  {
   "cell_type": "code",
   "execution_count": null,
   "metadata": {},
   "outputs": [],
   "source": [
    "spans = soup.find_all('span', {'class' : 'salaryText'})"
   ]
  },
  {
   "cell_type": "code",
   "execution_count": null,
   "metadata": {},
   "outputs": [],
   "source": [
    "spans"
   ]
  },
  {
   "cell_type": "code",
   "execution_count": null,
   "metadata": {},
   "outputs": [],
   "source": [
    "a = []\n",
    "for x in jobInfo:\n",
    "    a.append(x)\n",
    "print(a[4])"
   ]
  }
 ],
 "metadata": {
  "kernelspec": {
   "display_name": "Python 3",
   "language": "python",
   "name": "python3"
  },
  "language_info": {
   "codemirror_mode": {
    "name": "ipython",
    "version": 3
   },
   "file_extension": ".py",
   "mimetype": "text/x-python",
   "name": "python",
   "nbconvert_exporter": "python",
   "pygments_lexer": "ipython3",
   "version": "3.6.8"
  }
 },
 "nbformat": 4,
 "nbformat_minor": 2
}
